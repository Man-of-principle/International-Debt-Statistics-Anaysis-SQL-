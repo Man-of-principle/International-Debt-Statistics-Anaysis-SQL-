{
 "cells": [
  {
   "cell_type": "markdown",
   "id": "403cfeca-4a27-464c-860c-b460b22dc264",
   "metadata": {},
   "source": [
    "The following Questions Wll be answered in this NoteBook using PostgreSQL. \r\n",
    "\r\n",
    "1. What is the number of distinct countries present in the database? The output should be single column aliased with the following name: total_distinct_countries.\r\n",
    "\r\n",
    "2. What are the distinct debt indicators? the output column should be aliased as distinct_debt_indicators and the outputs should be ordered by it.\r\n",
    "\r\n",
    "3. What is the total amount of debt owed by all the countries present in the table, in millions? The output should be single column aliased with the following name: total_debt.\r\n",
    "\r\n",
    "4. What country has the highest amount of debt?\r\n",
    "\r\n",
    "5. What is the average amount of debt across different debt indicators?\r\n",
    "\r\n",
    "6. What is the highest amount of principal repayments in the \"DT.AMT.DLXF.CD\" category?"
   ]
  },
  {
   "cell_type": "code",
   "execution_count": 23,
   "id": "27bb4190-746f-47d9-8b5c-9a80f8cd219f",
   "metadata": {
    "customType": "sql",
    "dataFrameVariableName": "num_distinct_countries",
    "executionCancelledAt": null,
    "executionTime": 747,
    "lastExecutedAt": 1705962168756,
    "lastScheduledRunId": null,
    "lastSuccessfullyExecutedCode": "--num_distinct_countries\n\nSELECT COUNT(DISTINCT(international_debt.country_name)) AS total_distinct_countries\nFROM international_debt",
    "outputsMetadata": {
     "0": {
      "height": 98,
      "type": "dataFrame"
     }
    },
    "sqlCellMode": "dataFrame",
    "sqlSource": {
     "integrationId": "89e17161-a224-4a8a-846b-0adc0fe7a4b1",
     "type": "integration"
    }
   },
   "outputs": [
    {
     "@datacamp/metadata": {
      "executedQuery": "--num_distinct_countries\n\nSELECT COUNT(DISTINCT(international_debt.country_name)) AS total_distinct_countries\nFROM international_debt",
      "executedQueryParameters": []
     },
     "data": {
      "application/com.datacamp.data-table.v2+json": {
       "table": {
        "data": {
         "index": [
          0
         ],
         "total_distinct_countries": [
          124
         ]
        },
        "schema": {
         "fields": [
          {
           "name": "index",
           "type": "integer"
          },
          {
           "name": "total_distinct_countries",
           "type": "integer"
          }
         ],
         "pandas_version": "1.4.0",
         "primaryKey": [
          "index"
         ]
        }
       },
       "total_rows": 1,
       "truncation_type": null
      },
      "text/html": [
       "<div>\n",
       "<style scoped>\n",
       "    .dataframe tbody tr th:only-of-type {\n",
       "        vertical-align: middle;\n",
       "    }\n",
       "\n",
       "    .dataframe tbody tr th {\n",
       "        vertical-align: top;\n",
       "    }\n",
       "\n",
       "    .dataframe thead th {\n",
       "        text-align: right;\n",
       "    }\n",
       "</style>\n",
       "<table border=\"1\" class=\"dataframe\">\n",
       "  <thead>\n",
       "    <tr style=\"text-align: right;\">\n",
       "      <th></th>\n",
       "      <th>total_distinct_countries</th>\n",
       "    </tr>\n",
       "  </thead>\n",
       "  <tbody>\n",
       "    <tr>\n",
       "      <th>0</th>\n",
       "      <td>124</td>\n",
       "    </tr>\n",
       "  </tbody>\n",
       "</table>\n",
       "</div>"
      ],
      "text/plain": [
       "   total_distinct_countries\n",
       "0                       124"
      ]
     },
     "execution_count": 23,
     "metadata": {},
     "output_type": "execute_result"
    }
   ],
   "source": [
    "--num_distinct_countries\n",
    "\n",
    "SELECT COUNT(DISTINCT(international_debt.country_name)) AS total_distinct_countries\n",
    "FROM international_debt"
   ]
  },
  {
   "cell_type": "code",
   "execution_count": 24,
   "id": "2d55b23d-9c73-4a6c-9694-544dbf97796f",
   "metadata": {
    "customType": "sql",
    "dataFrameVariableName": "distinct_debt_indicators",
    "executionCancelledAt": null,
    "executionTime": 734,
    "lastExecutedAt": 1705962169490,
    "lastScheduledRunId": null,
    "lastSuccessfullyExecutedCode": "--distinct_debt_indicators\nSELECT DISTINCT(international_debt.indicator_code) AS distinct_debt_indicators\nFROM international_debt\nORDER BY distinct_debt_indicators",
    "outputsMetadata": {
     "0": {
      "height": 351,
      "type": "dataFrame"
     }
    },
    "sqlCellMode": "dataFrame",
    "sqlSource": {
     "integrationId": "89e17161-a224-4a8a-846b-0adc0fe7a4b1",
     "type": "integration"
    }
   },
   "outputs": [
    {
     "@datacamp/metadata": {
      "executedQuery": "--distinct_debt_indicators\nSELECT DISTINCT(international_debt.indicator_code) AS distinct_debt_indicators\nFROM international_debt\nORDER BY distinct_debt_indicators",
      "executedQueryParameters": []
     },
     "data": {
      "application/com.datacamp.data-table.v2+json": {
       "table": {
        "data": {
         "distinct_debt_indicators": [
          "DT.AMT.BLAT.CD",
          "DT.AMT.DLXF.CD",
          "DT.AMT.DPNG.CD",
          "DT.AMT.MLAT.CD",
          "DT.AMT.OFFT.CD",
          "DT.AMT.PBND.CD",
          "DT.AMT.PCBK.CD",
          "DT.AMT.PROP.CD",
          "DT.AMT.PRVT.CD",
          "DT.DIS.BLAT.CD",
          "DT.DIS.DLXF.CD",
          "DT.DIS.MLAT.CD",
          "DT.DIS.OFFT.CD",
          "DT.DIS.PCBK.CD",
          "DT.DIS.PROP.CD",
          "DT.DIS.PRVT.CD",
          "DT.INT.BLAT.CD",
          "DT.INT.DLXF.CD",
          "DT.INT.DPNG.CD",
          "DT.INT.MLAT.CD",
          "DT.INT.OFFT.CD",
          "DT.INT.PBND.CD",
          "DT.INT.PCBK.CD",
          "DT.INT.PROP.CD",
          "DT.INT.PRVT.CD"
         ],
         "index": [
          0,
          1,
          2,
          3,
          4,
          5,
          6,
          7,
          8,
          9,
          10,
          11,
          12,
          13,
          14,
          15,
          16,
          17,
          18,
          19,
          20,
          21,
          22,
          23,
          24
         ]
        },
        "schema": {
         "fields": [
          {
           "name": "index",
           "type": "integer"
          },
          {
           "name": "distinct_debt_indicators",
           "type": "string"
          }
         ],
         "pandas_version": "1.4.0",
         "primaryKey": [
          "index"
         ]
        }
       },
       "total_rows": 25,
       "truncation_type": null
      },
      "text/html": [
       "<div>\n",
       "<style scoped>\n",
       "    .dataframe tbody tr th:only-of-type {\n",
       "        vertical-align: middle;\n",
       "    }\n",
       "\n",
       "    .dataframe tbody tr th {\n",
       "        vertical-align: top;\n",
       "    }\n",
       "\n",
       "    .dataframe thead th {\n",
       "        text-align: right;\n",
       "    }\n",
       "</style>\n",
       "<table border=\"1\" class=\"dataframe\">\n",
       "  <thead>\n",
       "    <tr style=\"text-align: right;\">\n",
       "      <th></th>\n",
       "      <th>distinct_debt_indicators</th>\n",
       "    </tr>\n",
       "  </thead>\n",
       "  <tbody>\n",
       "    <tr>\n",
       "      <th>0</th>\n",
       "      <td>DT.AMT.BLAT.CD</td>\n",
       "    </tr>\n",
       "    <tr>\n",
       "      <th>1</th>\n",
       "      <td>DT.AMT.DLXF.CD</td>\n",
       "    </tr>\n",
       "    <tr>\n",
       "      <th>2</th>\n",
       "      <td>DT.AMT.DPNG.CD</td>\n",
       "    </tr>\n",
       "    <tr>\n",
       "      <th>3</th>\n",
       "      <td>DT.AMT.MLAT.CD</td>\n",
       "    </tr>\n",
       "    <tr>\n",
       "      <th>4</th>\n",
       "      <td>DT.AMT.OFFT.CD</td>\n",
       "    </tr>\n",
       "    <tr>\n",
       "      <th>5</th>\n",
       "      <td>DT.AMT.PBND.CD</td>\n",
       "    </tr>\n",
       "    <tr>\n",
       "      <th>6</th>\n",
       "      <td>DT.AMT.PCBK.CD</td>\n",
       "    </tr>\n",
       "    <tr>\n",
       "      <th>7</th>\n",
       "      <td>DT.AMT.PROP.CD</td>\n",
       "    </tr>\n",
       "    <tr>\n",
       "      <th>8</th>\n",
       "      <td>DT.AMT.PRVT.CD</td>\n",
       "    </tr>\n",
       "    <tr>\n",
       "      <th>9</th>\n",
       "      <td>DT.DIS.BLAT.CD</td>\n",
       "    </tr>\n",
       "    <tr>\n",
       "      <th>10</th>\n",
       "      <td>DT.DIS.DLXF.CD</td>\n",
       "    </tr>\n",
       "    <tr>\n",
       "      <th>11</th>\n",
       "      <td>DT.DIS.MLAT.CD</td>\n",
       "    </tr>\n",
       "    <tr>\n",
       "      <th>12</th>\n",
       "      <td>DT.DIS.OFFT.CD</td>\n",
       "    </tr>\n",
       "    <tr>\n",
       "      <th>13</th>\n",
       "      <td>DT.DIS.PCBK.CD</td>\n",
       "    </tr>\n",
       "    <tr>\n",
       "      <th>14</th>\n",
       "      <td>DT.DIS.PROP.CD</td>\n",
       "    </tr>\n",
       "    <tr>\n",
       "      <th>15</th>\n",
       "      <td>DT.DIS.PRVT.CD</td>\n",
       "    </tr>\n",
       "    <tr>\n",
       "      <th>16</th>\n",
       "      <td>DT.INT.BLAT.CD</td>\n",
       "    </tr>\n",
       "    <tr>\n",
       "      <th>17</th>\n",
       "      <td>DT.INT.DLXF.CD</td>\n",
       "    </tr>\n",
       "    <tr>\n",
       "      <th>18</th>\n",
       "      <td>DT.INT.DPNG.CD</td>\n",
       "    </tr>\n",
       "    <tr>\n",
       "      <th>19</th>\n",
       "      <td>DT.INT.MLAT.CD</td>\n",
       "    </tr>\n",
       "    <tr>\n",
       "      <th>20</th>\n",
       "      <td>DT.INT.OFFT.CD</td>\n",
       "    </tr>\n",
       "    <tr>\n",
       "      <th>21</th>\n",
       "      <td>DT.INT.PBND.CD</td>\n",
       "    </tr>\n",
       "    <tr>\n",
       "      <th>22</th>\n",
       "      <td>DT.INT.PCBK.CD</td>\n",
       "    </tr>\n",
       "    <tr>\n",
       "      <th>23</th>\n",
       "      <td>DT.INT.PROP.CD</td>\n",
       "    </tr>\n",
       "    <tr>\n",
       "      <th>24</th>\n",
       "      <td>DT.INT.PRVT.CD</td>\n",
       "    </tr>\n",
       "  </tbody>\n",
       "</table>\n",
       "</div>"
      ],
      "text/plain": [
       "   distinct_debt_indicators\n",
       "0            DT.AMT.BLAT.CD\n",
       "1            DT.AMT.DLXF.CD\n",
       "2            DT.AMT.DPNG.CD\n",
       "3            DT.AMT.MLAT.CD\n",
       "4            DT.AMT.OFFT.CD\n",
       "5            DT.AMT.PBND.CD\n",
       "6            DT.AMT.PCBK.CD\n",
       "7            DT.AMT.PROP.CD\n",
       "8            DT.AMT.PRVT.CD\n",
       "9            DT.DIS.BLAT.CD\n",
       "10           DT.DIS.DLXF.CD\n",
       "11           DT.DIS.MLAT.CD\n",
       "12           DT.DIS.OFFT.CD\n",
       "13           DT.DIS.PCBK.CD\n",
       "14           DT.DIS.PROP.CD\n",
       "15           DT.DIS.PRVT.CD\n",
       "16           DT.INT.BLAT.CD\n",
       "17           DT.INT.DLXF.CD\n",
       "18           DT.INT.DPNG.CD\n",
       "19           DT.INT.MLAT.CD\n",
       "20           DT.INT.OFFT.CD\n",
       "21           DT.INT.PBND.CD\n",
       "22           DT.INT.PCBK.CD\n",
       "23           DT.INT.PROP.CD\n",
       "24           DT.INT.PRVT.CD"
      ]
     },
     "execution_count": 24,
     "metadata": {},
     "output_type": "execute_result"
    }
   ],
   "source": [
    "--distinct_debt_indicators\n",
    "SELECT DISTINCT(international_debt.indicator_code) AS distinct_debt_indicators\n",
    "FROM international_debt\n",
    "ORDER BY distinct_debt_indicators"
   ]
  },
  {
   "cell_type": "code",
   "execution_count": 25,
   "id": "52c97d25-0361-4958-bd19-e342bdf1fe47",
   "metadata": {
    "customType": "sql",
    "dataFrameVariableName": "total_debt",
    "executionCancelledAt": null,
    "executionTime": 647,
    "lastExecutedAt": 1705962170137,
    "lastScheduledRunId": null,
    "lastSuccessfullyExecutedCode": "--total_debt\nSELECT  ROUND(SUM(international_debt.debt)/1000000,2) AS total_debt\nFROM international_debt",
    "outputsMetadata": {
     "0": {
      "height": 98,
      "type": "dataFrame"
     }
    },
    "sqlCellMode": "dataFrame",
    "sqlSource": {
     "integrationId": "89e17161-a224-4a8a-846b-0adc0fe7a4b1",
     "type": "integration"
    }
   },
   "outputs": [
    {
     "@datacamp/metadata": {
      "executedQuery": "--total_debt\nSELECT  ROUND(SUM(international_debt.debt)/1000000,2) AS total_debt\nFROM international_debt",
      "executedQueryParameters": []
     },
     "data": {
      "application/com.datacamp.data-table.v2+json": {
       "table": {
        "data": {
         "index": [
          0
         ],
         "total_debt": [
          3079734.49
         ]
        },
        "schema": {
         "fields": [
          {
           "name": "index",
           "type": "integer"
          },
          {
           "name": "total_debt",
           "type": "number"
          }
         ],
         "pandas_version": "1.4.0",
         "primaryKey": [
          "index"
         ]
        }
       },
       "total_rows": 1,
       "truncation_type": null
      },
      "text/html": [
       "<div>\n",
       "<style scoped>\n",
       "    .dataframe tbody tr th:only-of-type {\n",
       "        vertical-align: middle;\n",
       "    }\n",
       "\n",
       "    .dataframe tbody tr th {\n",
       "        vertical-align: top;\n",
       "    }\n",
       "\n",
       "    .dataframe thead th {\n",
       "        text-align: right;\n",
       "    }\n",
       "</style>\n",
       "<table border=\"1\" class=\"dataframe\">\n",
       "  <thead>\n",
       "    <tr style=\"text-align: right;\">\n",
       "      <th></th>\n",
       "      <th>total_debt</th>\n",
       "    </tr>\n",
       "  </thead>\n",
       "  <tbody>\n",
       "    <tr>\n",
       "      <th>0</th>\n",
       "      <td>3079734.49</td>\n",
       "    </tr>\n",
       "  </tbody>\n",
       "</table>\n",
       "</div>"
      ],
      "text/plain": [
       "   total_debt\n",
       "0  3079734.49"
      ]
     },
     "execution_count": 25,
     "metadata": {},
     "output_type": "execute_result"
    }
   ],
   "source": [
    "--total_debt\n",
    "SELECT  ROUND(SUM(international_debt.debt)/1000000,2) AS total_debt\n",
    "FROM international_debt"
   ]
  },
  {
   "cell_type": "code",
   "execution_count": 26,
   "id": "93c8f733-7c58-43f4-b5ce-314484e46bab",
   "metadata": {
    "customType": "sql",
    "dataFrameVariableName": "highest_debt_country",
    "executionCancelledAt": null,
    "executionTime": 782,
    "lastExecutedAt": 1705962170919,
    "lastScheduledRunId": null,
    "lastSuccessfullyExecutedCode": "--highest_debt_country\nSELECT international_debt.country_name, SUM(international_debt.debt) AS total_debt\nFROM international_debt\nGROUP BY international_debt.country_name \nOrder by total_debt DESC\nLIMIT 1",
    "outputsMetadata": {
     "0": {
      "height": 98,
      "type": "dataFrame"
     }
    },
    "sqlCellMode": "dataFrame",
    "sqlSource": {
     "integrationId": "89e17161-a224-4a8a-846b-0adc0fe7a4b1",
     "type": "integration"
    }
   },
   "outputs": [
    {
     "@datacamp/metadata": {
      "executedQuery": "--highest_debt_country\nSELECT international_debt.country_name, SUM(international_debt.debt) AS total_debt\nFROM international_debt\nGROUP BY international_debt.country_name \nOrder by total_debt DESC\nLIMIT 1",
      "executedQueryParameters": []
     },
     "data": {
      "application/com.datacamp.data-table.v2+json": {
       "table": {
        "data": {
         "country_name": [
          "China"
         ],
         "index": [
          0
         ],
         "total_debt": [
          285793494734.2
         ]
        },
        "schema": {
         "fields": [
          {
           "name": "index",
           "type": "integer"
          },
          {
           "name": "country_name",
           "type": "string"
          },
          {
           "name": "total_debt",
           "type": "number"
          }
         ],
         "pandas_version": "1.4.0",
         "primaryKey": [
          "index"
         ]
        }
       },
       "total_rows": 1,
       "truncation_type": null
      },
      "text/html": [
       "<div>\n",
       "<style scoped>\n",
       "    .dataframe tbody tr th:only-of-type {\n",
       "        vertical-align: middle;\n",
       "    }\n",
       "\n",
       "    .dataframe tbody tr th {\n",
       "        vertical-align: top;\n",
       "    }\n",
       "\n",
       "    .dataframe thead th {\n",
       "        text-align: right;\n",
       "    }\n",
       "</style>\n",
       "<table border=\"1\" class=\"dataframe\">\n",
       "  <thead>\n",
       "    <tr style=\"text-align: right;\">\n",
       "      <th></th>\n",
       "      <th>country_name</th>\n",
       "      <th>total_debt</th>\n",
       "    </tr>\n",
       "  </thead>\n",
       "  <tbody>\n",
       "    <tr>\n",
       "      <th>0</th>\n",
       "      <td>China</td>\n",
       "      <td>2.857935e+11</td>\n",
       "    </tr>\n",
       "  </tbody>\n",
       "</table>\n",
       "</div>"
      ],
      "text/plain": [
       "  country_name    total_debt\n",
       "0        China  2.857935e+11"
      ]
     },
     "execution_count": 26,
     "metadata": {},
     "output_type": "execute_result"
    }
   ],
   "source": [
    "--highest_debt_country\n",
    "SELECT international_debt.country_name, SUM(international_debt.debt) AS total_debt\n",
    "FROM international_debt\n",
    "GROUP BY international_debt.country_name \n",
    "Order by total_debt DESC\n",
    "LIMIT 1"
   ]
  },
  {
   "cell_type": "code",
   "execution_count": 27,
   "id": "833811a5-d961-47ea-b7aa-d8232b8f32ee",
   "metadata": {
    "customType": "sql",
    "dataFrameVariableName": "avg_debt_per_indicator",
    "executionCancelledAt": null,
    "executionTime": 777,
    "lastExecutedAt": 1705962171696,
    "lastScheduledRunId": null,
    "lastSuccessfullyExecutedCode": "--avg_debt_per_indicator\nSELECT (international_debt.indicator_code) AS debt_indicator, international_debt.indicator_name, AVG(international_debt.debt) AS average_debt\nFROM international_debt\nGROUP BY debt_indicator, international_debt.indicator_name\nORDER BY average_debt DESC \nLIMIT 10 ",
    "outputsMetadata": {
     "0": {
      "height": 340,
      "type": "dataFrame"
     }
    },
    "sqlCellMode": "dataFrame",
    "sqlSource": {
     "integrationId": "89e17161-a224-4a8a-846b-0adc0fe7a4b1",
     "type": "integration"
    }
   },
   "outputs": [
    {
     "@datacamp/metadata": {
      "executedQuery": "--avg_debt_per_indicator\nSELECT (international_debt.indicator_code) AS debt_indicator, international_debt.indicator_name, AVG(international_debt.debt) AS average_debt\nFROM international_debt\nGROUP BY debt_indicator, international_debt.indicator_name\nORDER BY average_debt DESC \nLIMIT 10 ",
      "executedQueryParameters": []
     },
     "data": {
      "application/com.datacamp.data-table.v2+json": {
       "table": {
        "data": {
         "average_debt": [
          5904868401.499193,
          5161194333.812657,
          2152041216.890244,
          1958983452.859836,
          1803694101.9632652,
          1644024067.6508064,
          1223139290.39823,
          1220410844.4215188,
          1191187963.0830643,
          1082623947.653623
         ],
         "debt_indicator": [
          "DT.AMT.DLXF.CD",
          "DT.AMT.DPNG.CD",
          "DT.DIS.DLXF.CD",
          "DT.DIS.OFFT.CD",
          "DT.AMT.PRVT.CD",
          "DT.INT.DLXF.CD",
          "DT.DIS.BLAT.CD",
          "DT.INT.DPNG.CD",
          "DT.AMT.OFFT.CD",
          "DT.AMT.PBND.CD"
         ],
         "index": [
          0,
          1,
          2,
          3,
          4,
          5,
          6,
          7,
          8,
          9
         ],
         "indicator_name": [
          "Principal repayments on external debt, long-term (AMT, current US$)",
          "Principal repayments on external debt, private nonguaranteed (PNG) (AMT, current US$)",
          "Disbursements on external debt, long-term (DIS, current US$)",
          "PPG, official creditors (DIS, current US$)",
          "PPG, private creditors (AMT, current US$)",
          "Interest payments on external debt, long-term (INT, current US$)",
          "PPG, bilateral (DIS, current US$)",
          "Interest payments on external debt, private nonguaranteed (PNG) (INT, current US$)",
          "PPG, official creditors (AMT, current US$)",
          "PPG, bonds (AMT, current US$)"
         ]
        },
        "schema": {
         "fields": [
          {
           "name": "index",
           "type": "integer"
          },
          {
           "name": "debt_indicator",
           "type": "string"
          },
          {
           "name": "indicator_name",
           "type": "string"
          },
          {
           "name": "average_debt",
           "type": "number"
          }
         ],
         "pandas_version": "1.4.0",
         "primaryKey": [
          "index"
         ]
        }
       },
       "total_rows": 10,
       "truncation_type": null
      },
      "text/html": [
       "<div>\n",
       "<style scoped>\n",
       "    .dataframe tbody tr th:only-of-type {\n",
       "        vertical-align: middle;\n",
       "    }\n",
       "\n",
       "    .dataframe tbody tr th {\n",
       "        vertical-align: top;\n",
       "    }\n",
       "\n",
       "    .dataframe thead th {\n",
       "        text-align: right;\n",
       "    }\n",
       "</style>\n",
       "<table border=\"1\" class=\"dataframe\">\n",
       "  <thead>\n",
       "    <tr style=\"text-align: right;\">\n",
       "      <th></th>\n",
       "      <th>debt_indicator</th>\n",
       "      <th>indicator_name</th>\n",
       "      <th>average_debt</th>\n",
       "    </tr>\n",
       "  </thead>\n",
       "  <tbody>\n",
       "    <tr>\n",
       "      <th>0</th>\n",
       "      <td>DT.AMT.DLXF.CD</td>\n",
       "      <td>Principal repayments on external debt, long-te...</td>\n",
       "      <td>5.904868e+09</td>\n",
       "    </tr>\n",
       "    <tr>\n",
       "      <th>1</th>\n",
       "      <td>DT.AMT.DPNG.CD</td>\n",
       "      <td>Principal repayments on external debt, private...</td>\n",
       "      <td>5.161194e+09</td>\n",
       "    </tr>\n",
       "    <tr>\n",
       "      <th>2</th>\n",
       "      <td>DT.DIS.DLXF.CD</td>\n",
       "      <td>Disbursements on external debt, long-term (DIS...</td>\n",
       "      <td>2.152041e+09</td>\n",
       "    </tr>\n",
       "    <tr>\n",
       "      <th>3</th>\n",
       "      <td>DT.DIS.OFFT.CD</td>\n",
       "      <td>PPG, official creditors (DIS, current US$)</td>\n",
       "      <td>1.958983e+09</td>\n",
       "    </tr>\n",
       "    <tr>\n",
       "      <th>4</th>\n",
       "      <td>DT.AMT.PRVT.CD</td>\n",
       "      <td>PPG, private creditors (AMT, current US$)</td>\n",
       "      <td>1.803694e+09</td>\n",
       "    </tr>\n",
       "    <tr>\n",
       "      <th>5</th>\n",
       "      <td>DT.INT.DLXF.CD</td>\n",
       "      <td>Interest payments on external debt, long-term ...</td>\n",
       "      <td>1.644024e+09</td>\n",
       "    </tr>\n",
       "    <tr>\n",
       "      <th>6</th>\n",
       "      <td>DT.DIS.BLAT.CD</td>\n",
       "      <td>PPG, bilateral (DIS, current US$)</td>\n",
       "      <td>1.223139e+09</td>\n",
       "    </tr>\n",
       "    <tr>\n",
       "      <th>7</th>\n",
       "      <td>DT.INT.DPNG.CD</td>\n",
       "      <td>Interest payments on external debt, private no...</td>\n",
       "      <td>1.220411e+09</td>\n",
       "    </tr>\n",
       "    <tr>\n",
       "      <th>8</th>\n",
       "      <td>DT.AMT.OFFT.CD</td>\n",
       "      <td>PPG, official creditors (AMT, current US$)</td>\n",
       "      <td>1.191188e+09</td>\n",
       "    </tr>\n",
       "    <tr>\n",
       "      <th>9</th>\n",
       "      <td>DT.AMT.PBND.CD</td>\n",
       "      <td>PPG, bonds (AMT, current US$)</td>\n",
       "      <td>1.082624e+09</td>\n",
       "    </tr>\n",
       "  </tbody>\n",
       "</table>\n",
       "</div>"
      ],
      "text/plain": [
       "   debt_indicator  ...  average_debt\n",
       "0  DT.AMT.DLXF.CD  ...  5.904868e+09\n",
       "1  DT.AMT.DPNG.CD  ...  5.161194e+09\n",
       "2  DT.DIS.DLXF.CD  ...  2.152041e+09\n",
       "3  DT.DIS.OFFT.CD  ...  1.958983e+09\n",
       "4  DT.AMT.PRVT.CD  ...  1.803694e+09\n",
       "5  DT.INT.DLXF.CD  ...  1.644024e+09\n",
       "6  DT.DIS.BLAT.CD  ...  1.223139e+09\n",
       "7  DT.INT.DPNG.CD  ...  1.220411e+09\n",
       "8  DT.AMT.OFFT.CD  ...  1.191188e+09\n",
       "9  DT.AMT.PBND.CD  ...  1.082624e+09\n",
       "\n",
       "[10 rows x 3 columns]"
      ]
     },
     "execution_count": 27,
     "metadata": {},
     "output_type": "execute_result"
    }
   ],
   "source": [
    "--avg_debt_per_indicator\n",
    "SELECT (international_debt.indicator_code) AS debt_indicator, international_debt.indicator_name, AVG(international_debt.debt) AS average_debt\n",
    "FROM international_debt\n",
    "GROUP BY debt_indicator, international_debt.indicator_name\n",
    "ORDER BY average_debt DESC \n",
    "LIMIT 10 "
   ]
  },
  {
   "cell_type": "code",
   "execution_count": null,
   "id": "59a5d0e3-88e9-44fb-8603-f6b2c1bdb071",
   "metadata": {
    "customType": "sql",
    "dataFrameVariableName": "international_debt",
    "sqlCellMode": "dataFrame",
    "sqlSource": {
     "integrationId": "89e17161-a224-4a8a-846b-0adc0fe7a4b1",
     "integrationType": "postgresql",
     "type": "integration"
    }
   },
   "outputs": [],
   "source": [
    "SELECT * FROM public.international_debt"
   ]
  },
  {
   "cell_type": "code",
   "execution_count": 28,
   "id": "54ba840f-fb60-40ba-b97d-d98d96f9b8da",
   "metadata": {
    "customType": "sql",
    "dataFrameVariableName": "highest_principal_repayment",
    "executionCancelledAt": null,
    "executionTime": 596,
    "lastExecutedAt": 1705962172292,
    "lastScheduledRunId": null,
    "lastSuccessfullyExecutedCode": "--highest_principal_repayment\nSELECT international_debt.country_name, international_debt.indicator_name\nFROM international_debt\nWHERE international_debt.debt = (SELECT MAX(debt) FROM international_debt) AND international_debt.indicator_code = 'DT.AMT.DLXF.CD';",
    "outputsMetadata": {
     "0": {
      "height": 98,
      "type": "dataFrame"
     }
    },
    "sqlCellMode": "dataFrame",
    "sqlSource": {
     "integrationId": "89e17161-a224-4a8a-846b-0adc0fe7a4b1",
     "type": "integration"
    }
   },
   "outputs": [
    {
     "@datacamp/metadata": {
      "executedQuery": "--highest_principal_repayment\nSELECT international_debt.country_name, international_debt.indicator_name\nFROM international_debt\nWHERE international_debt.debt = (SELECT MAX(debt) FROM international_debt) AND international_debt.indicator_code = 'DT.AMT.DLXF.CD';",
      "executedQueryParameters": []
     },
     "data": {
      "application/com.datacamp.data-table.v2+json": {
       "table": {
        "data": {
         "country_name": [
          "China"
         ],
         "index": [
          0
         ],
         "indicator_name": [
          "Principal repayments on external debt, long-term (AMT, current US$)"
         ]
        },
        "schema": {
         "fields": [
          {
           "name": "index",
           "type": "integer"
          },
          {
           "name": "country_name",
           "type": "string"
          },
          {
           "name": "indicator_name",
           "type": "string"
          }
         ],
         "pandas_version": "1.4.0",
         "primaryKey": [
          "index"
         ]
        }
       },
       "total_rows": 1,
       "truncation_type": null
      },
      "text/html": [
       "<div>\n",
       "<style scoped>\n",
       "    .dataframe tbody tr th:only-of-type {\n",
       "        vertical-align: middle;\n",
       "    }\n",
       "\n",
       "    .dataframe tbody tr th {\n",
       "        vertical-align: top;\n",
       "    }\n",
       "\n",
       "    .dataframe thead th {\n",
       "        text-align: right;\n",
       "    }\n",
       "</style>\n",
       "<table border=\"1\" class=\"dataframe\">\n",
       "  <thead>\n",
       "    <tr style=\"text-align: right;\">\n",
       "      <th></th>\n",
       "      <th>country_name</th>\n",
       "      <th>indicator_name</th>\n",
       "    </tr>\n",
       "  </thead>\n",
       "  <tbody>\n",
       "    <tr>\n",
       "      <th>0</th>\n",
       "      <td>China</td>\n",
       "      <td>Principal repayments on external debt, long-te...</td>\n",
       "    </tr>\n",
       "  </tbody>\n",
       "</table>\n",
       "</div>"
      ],
      "text/plain": [
       "  country_name                                     indicator_name\n",
       "0        China  Principal repayments on external debt, long-te..."
      ]
     },
     "execution_count": 28,
     "metadata": {},
     "output_type": "execute_result"
    }
   ],
   "source": [
    "--highest_principal_repayment\n",
    "SELECT international_debt.country_name, international_debt.indicator_name\n",
    "FROM international_debt\n",
    "WHERE international_debt.debt = (SELECT MAX(debt) FROM international_debt) AND international_debt.indicator_code = 'DT.AMT.DLXF.CD';"
   ]
  }
 ],
 "metadata": {
  "colab": {
   "name": "Welcome to DataCamp Workspaces.ipynb",
   "provenance": []
  },
  "kernelspec": {
   "display_name": "Python 3 (ipykernel)",
   "language": "python",
   "name": "python3"
  },
  "language_info": {
   "codemirror_mode": {
    "name": "ipython",
    "version": 3
   },
   "file_extension": ".py",
   "mimetype": "text/x-python",
   "name": "python",
   "nbconvert_exporter": "python",
   "pygments_lexer": "ipython3",
   "version": "3.11.7"
  }
 },
 "nbformat": 4,
 "nbformat_minor": 5
}
